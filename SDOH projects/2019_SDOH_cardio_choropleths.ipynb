{
 "cells": [
  {
   "cell_type": "markdown",
   "id": "e47381cb",
   "metadata": {},
   "source": [
    "# Visualizing Cardivascular Heath Indicators in America: 2019"
   ]
  },
  {
   "cell_type": "markdown",
   "id": "cd824786",
   "metadata": {},
   "source": [
    "# Table of Contents\n",
    "\n",
    "[About this Data](#About-this-Data)\n",
    " \n",
    "[Avoidable Deaths due to Heart Disease and Stroke](#Avoidable-Deaths-due-to-Heart-Disease-and-Stroke)\n",
    "\n",
    "[Prevalence of High Cholesterol in Adults](#Prevalence-of-High-Cholesterol-in-Adults)\n",
    "\n",
    "[Prevalence of No Physical Activity](#Prevalence-of-No-Physical-Activity)\n",
    "\n",
    "[Summary](#Summary)\n"
   ]
  },
  {
   "cell_type": "markdown",
   "id": "703a7cc7",
   "metadata": {},
   "source": [
    "## About this Data\n",
    "\n",
    "This project visually explores three indicators of cardiovascular health in adults across the US: \n",
    "* Avoidable deaths due to heart disease and stroke\n",
    "* Prevalence of reported high cholesterol\n",
    "* Prevalence of reported lack of exercise\n",
    "\n",
    "The data is from the Agency for Healthcare Research and Quality Social Determinants of Health (SDOH) Database for the year 2019. The SDOH comprises data pulled from several sources across five core domains: social context, economic context, education, physical infrastructure, and healthcare context. \n",
    "\n",
    "These visualizations use data drawn from two Centers for Disease Control and Prevention sources within the the SDOH Database-the Interactive Atlas of Heart Disease and Stroke and the Population Level Analysis and Community Estimates: Local Data for Better Health.\n",
    "\n",
    "\n",
    "*Citation:  Area Health Resources Files (AHRF) 2009-2019. US Department of Health and Human Services, Health Resources and Services Administration, Bureau of Health Workforce, Rockville, MD.https://www.ahrq.gov/sdoh*\n",
    "\n",
    "Code written by Jessica Hooker, June 2023\n"
   ]
  },
  {
   "cell_type": "markdown",
   "id": "dba2d07f",
   "metadata": {},
   "source": [
    "### Import Libraries\n"
   ]
  },
  {
   "cell_type": "code",
   "execution_count": null,
   "id": "9c5fd49f",
   "metadata": {},
   "outputs": [],
   "source": [
    "import pandas as pd\n",
    "import numpy as np \n",
    "from urllib.request import urlopen\n",
    "import json\n",
    "import plotly.express as px\n",
    "import matplotlib.pyplot as plt\n",
    "import seaborn as sns\n",
    "plt.rcParams['figure.dpi']= 300"
   ]
  },
  {
   "cell_type": "markdown",
   "id": "cbdd03ff",
   "metadata": {},
   "source": [
    "### Read in the Data"
   ]
  },
  {
   "cell_type": "code",
   "execution_count": null,
   "id": "75801184",
   "metadata": {},
   "outputs": [],
   "source": [
    "#read in SDOH data\n",
    "\n",
    "data = pd.ExcelFile('SDOH_2019_County_1_0.xlsx')\n",
    "\n",
    "df_SDOH_2019 = pd.read_excel(data,'Data', dtype={\"COUNTYFIPS\": str})\n"
   ]
  },
  {
   "cell_type": "code",
   "execution_count": null,
   "id": "7a4d06a3",
   "metadata": {},
   "outputs": [],
   "source": [
    "# import county fips for choropleth map\n",
    "with urlopen('https://raw.githubusercontent.com/plotly/datasets/master/geojson-counties-fips.json') as response:\n",
    "    counties = json.load(response)"
   ]
  },
  {
   "cell_type": "markdown",
   "id": "79bfe081",
   "metadata": {},
   "source": [
    "## Avoidable Deaths due to Heart Disease and Stroke\n",
    "[(back to top)](#Table-of-Contents)"
   ]
  },
  {
   "cell_type": "code",
   "execution_count": null,
   "id": "55d99854",
   "metadata": {},
   "outputs": [],
   "source": [
    "# choropleth plot of adults with high cholesterol, county level data, raw\n",
    "fig = px.choropleth(df_SDOH_2019, geojson=counties, locations='COUNTYFIPS', color='CDCA_PREV_DTH_RATE_BELOW74',\n",
    "                    color_continuous_scale=\"Jet\",\n",
    "                    range_color=(13, 211),\n",
    "                    scope=\"usa\",\n",
    "                    labels={'CDCA_PREV_DTH_RATE_BELOW74':'Avoidable Deaths<br>per 100,000'},\n",
    "                    title = \" 2019 Total Avoidable Deaths due to Heart Disease and Stroke\",\n",
    "                    hover_name=\"COUNTY\", hover_data={\"COUNTYFIPS\": False,\n",
    "                                                     \"STATE\":True, \n",
    "                                                     \"CDCA_PREV_DTH_RATE_BELOW74\":True}\n",
    "                    )\n",
    "\n",
    "fig.update_layout(annotations = [dict(\n",
    "        x=0,\n",
    "        y=0,    #Trying a negative number makes the caption disappear - I'd like the caption to be below the map\n",
    "        xref='paper',\n",
    "        yref='paper',\n",
    "        text='Total avoidable heart disease and stroke deaths per 100,000 population (ages 74 and below).<br>Source:Centers for Disease Control and Prevention',\n",
    "        showarrow = False\n",
    "    )],\n",
    "                  margin={\"r\":40,\"t\":40,\"l\":0,\"b\":0},\n",
    "                 )\n",
    "fig.show()"
   ]
  },
  {
   "cell_type": "markdown",
   "id": "0ad5ca77",
   "metadata": {},
   "source": [
    "<details>\n",
    "  <summary><div class=\"alert alert-block alert-info\">\n",
    "<b>About this Figure</b> (click me)</div></summary>\n",
    "This plot represents the total number of avoidable deaths due to heart disease and stroke per 100,000 people by county. An 'avoidable death' is one that occurs in an adult under the age of 75. Of the three variables of interest, the range for this indicator is the largest. Yet, there is a clear pattern of  estimates at the lower end of the range for a majority of the country. This likely indicates some skewness in the data, with a smaller number of extreme values at the upper end of the range (indicated by counties in red). Compared to other regions of the US, there is a pattern of a higher number of avoidable deaths in the southeastern counties. The highest concentration of a high number of avoidable deaths, based on visual examination, appears to be in Oklahoma.\n",
    "    \n",
    "   \n",
    "Note: White spaces represent counties for which data was not available.\n",
    "   \n",
    "*Citation: AHRQ SDOH Database (v1), from Centers for Disease Control and Prevention, Division for Heart\n",
    "Disease and Stroke Prevention, Interactive Atlas of Heart Disease and Stroke,\n",
    "http://nccd.cdc.gov/DHDSPAtlas.* \n",
    "</details>"
   ]
  },
  {
   "cell_type": "markdown",
   "id": "10bdcd19",
   "metadata": {},
   "source": [
    "## Prevalence of High Cholesterol in Adults\n",
    "[(back to top)](#Table-of-Contents)"
   ]
  },
  {
   "cell_type": "code",
   "execution_count": null,
   "id": "b0f2b41f",
   "metadata": {},
   "outputs": [],
   "source": [
    "# choropleth plot of adults with high cholesterol, county level data, raw\n",
    "fig = px.choropleth(df_SDOH_2019, geojson=counties, locations='COUNTYFIPS', color='CDCP_CHOLES_ADULT_A',\n",
    "                    color_continuous_scale=\"Jet\",\n",
    "                    range_color=(21, 37),\n",
    "                    scope=\"usa\",\n",
    "                    labels={'CDCP_CHOLES_ADULT_A':'Prevalence of<br>High Cholesterol'},\n",
    "                    title = \"2019 Age-adjusted Prevalence of Adults with High Cholesterol (%)\",\n",
    "                    hover_name=\"COUNTY\", hover_data={\"COUNTYFIPS\": False,\n",
    "                                                     \"STATE\":True, \n",
    "                                                     \"CDCP_CHOLES_ADULT_A\":True})\n",
    "\n",
    "fig.update_layout(annotations = [dict(\n",
    "        x=0,\n",
    "        y=0,    #Trying a negative number makes the caption disappear - I'd like the caption to be below the map\n",
    "        xref='paper',\n",
    "        yref='paper',\n",
    "        text='Age-adjusted prevalence of adults aged 18 years and older who report having been told by a doctor, nurse, or other health professional<br> that they had high cholesterol (%). Source:Centers for Disease Control and Prevention',\n",
    "        showarrow = False\n",
    "    )],\n",
    "                margin={\"r\":40,\"t\":40,\"l\":0,\"b\":0})\n",
    "fig.show()"
   ]
  },
  {
   "cell_type": "markdown",
   "id": "601fff6d",
   "metadata": {},
   "source": [
    "<details>\n",
    "  <summary><div class=\"alert alert-block alert-info\">\n",
    "<b>About this Figure</b> (click me)</div></summary>\n",
    "This plot represents the prevalence of adults over the age of 18 who report they have high cholesterol accordnig to a doctor or health professional. This variable has the smallest range of values. Despite reduced variability in the range for this indicator across counties overall, there is a clear pattern of higher prevalence  in the southeast US (with the exception of Florida). States that appear to have lower prevalance rates across counties are relatively concentrated in the northern states of the western US, as well as New Hampshire. \n",
    "\n",
    "Note: White spaces represent counties for which data was not available.\n",
    "    \n",
    "*Citation: AHRQ SDOH Database (v1), from PLACES: Local Data for Better Health. Center for Disease\n",
    "Control and Prevention (2020 and 2021 Release). Retrieved January 2022 from:\n",
    "https://chronicdata.cdc.gov/browse?category=500+Cities+%26+Places&sortBy=newest&utf8.*\n",
    "       \n",
    "</details>"
   ]
  },
  {
   "cell_type": "markdown",
   "id": "5fa39de5",
   "metadata": {},
   "source": [
    "## Prevalence of No Physical Activity\n",
    "[(back to top)](#Table-of-Contents)"
   ]
  },
  {
   "cell_type": "code",
   "execution_count": null,
   "id": "114be199",
   "metadata": {},
   "outputs": [],
   "source": [
    "# choropleth plot of adults reporting no physical activities, county level data, raw\n",
    "fig = px.choropleth(df_SDOH_2019, geojson=counties, locations='COUNTYFIPS', color='CDCP_NO_PHY_ACTV_ADULT_A',\n",
    "                           color_continuous_scale=\"Jet\",\n",
    "                           range_color=(12, 51),\n",
    "                           scope=\"usa\",\n",
    "                           labels={'CDCP_NO_PHY_ACTV_ADULT_A':'Prevalence of<br>No Physical Activity'},\n",
    "                    title = \"2019 Age-adjusted Prevalence of No Physical Activity (%)\",\n",
    "                    hover_name=\"COUNTY\", hover_data={\"COUNTYFIPS\": False,\n",
    "                                                     \"STATE\":True, \n",
    "                                                     \"CDCP_NO_PHY_ACTV_ADULT_A\":True}\n",
    "                          )\n",
    "fig.update_layout(annotations = [dict(\n",
    "        x=0,\n",
    "        y=0,    #Trying a negative number makes the caption disappear - I'd like the caption to be below the map\n",
    "        xref='paper',\n",
    "        yref='paper',\n",
    "        text='Age-adjusted prevalence of adults aged 18 years and older who report not having participated in any physical activities<br>or exercises other their than regular job (%). Source:Centers for Disease Control and Prevention',\n",
    "        showarrow = False\n",
    "    )],\n",
    "                margin={\"r\":40,\"t\":40,\"l\":0,\"b\":0})\n",
    "fig.show()\n",
    "\n"
   ]
  },
  {
   "cell_type": "markdown",
   "id": "dd0963e1",
   "metadata": {},
   "source": [
    "<details>\n",
    "  <summary><div class=\"alert alert-block alert-info\">\n",
    "<b>About this Figure</b> (click me)</div></summary>\n",
    "This plot represents the prevalence of adults over the age of 18 who report not participating in physical activities or exercise outside of their job. Some examples of physical activities include running, walking for exercise, golf or gardening. The range of prevalence estimates here are slightly larger than the range for the cholesterol variable above.  As with previous visualizations, there is a concentration of higher prevalance of no exercise in the southeast, particularly in Mississippi counties. Interestingly, there are several counties in South Dakota with high rates of non-exercise, but these same counties have relatively low rates of both adults with high cholesterol and avoidable deaths due to heart disease and stroke.\n",
    " \n",
    "Note: White spaces represent counties for which data was not available.\n",
    "    \n",
    "*Citation: AHRQ SDOH Database (v1), from PLACES: Local Data for Better Health. Center for Disease\n",
    "Control and Prevention (2020 and 2021 Release). Retrieved January 2022 from:\n",
    "https://chronicdata.cdc.gov/browse?category=500+Cities+%26+Places&sortBy=newest&utf8.*\n",
    "</details>"
   ]
  },
  {
   "cell_type": "markdown",
   "id": "29960cd1",
   "metadata": {},
   "source": [
    "## Summary\n",
    "[(back to top)](#Table-of-Contents)\n",
    "\n",
    "The visualizations presented above provide a broadband overview of the health of American adults based on three indicators related to cardivascular health and physical exercise. While the data are presented in different scales, preliminary examinations of the graphs highlight geographic consistency for regions with poorer health outcomes; the southeastern US in particular. While these graphics do not directly imply a causal link between exercise and cardiovascular outcomes, physical excerise is a known modifiable risk factor for cardivascular health. It is important to note that these graphics provide a population-level overview of these indicators and do not capture factors that may explain regional differences.  "
   ]
  }
 ],
 "metadata": {
  "kernelspec": {
   "display_name": "Python 3 (ipykernel)",
   "language": "python",
   "name": "python3"
  },
  "language_info": {
   "codemirror_mode": {
    "name": "ipython",
    "version": 3
   },
   "file_extension": ".py",
   "mimetype": "text/x-python",
   "name": "python",
   "nbconvert_exporter": "python",
   "pygments_lexer": "ipython3",
   "version": "3.10.11"
  }
 },
 "nbformat": 4,
 "nbformat_minor": 5
}
